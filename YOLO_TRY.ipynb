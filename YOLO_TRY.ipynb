{
  "nbformat": 4,
  "nbformat_minor": 0,
  "metadata": {
    "colab": {
      "name": "YOLO TRY.ipynb",
      "provenance": [],
      "collapsed_sections": [],
      "include_colab_link": true
    },
    "kernelspec": {
      "name": "python3",
      "display_name": "Python 3"
    },
    "language_info": {
      "name": "python"
    }
  },
  "cells": [
    {
      "cell_type": "markdown",
      "metadata": {
        "id": "view-in-github",
        "colab_type": "text"
      },
      "source": [
        "<a href=\"https://colab.research.google.com/github/anjiii-18/Practice-projects/blob/master/YOLO_TRY.ipynb\" target=\"_parent\"><img src=\"https://colab.research.google.com/assets/colab-badge.svg\" alt=\"Open In Colab\"/></a>"
      ]
    },
    {
      "cell_type": "code",
      "metadata": {
        "id": "6QOeRxkxrY1p",
        "colab": {
          "base_uri": "https://localhost:8080/"
        },
        "outputId": "39aa99b3-610b-4659-b56b-11c0a6d65a66"
      },
      "source": [
        "!git clone https://github.com/AntonMu/TrainYourOwnYOLO\n",
        "%cd /content/TrainYourOwnYOLO"
      ],
      "execution_count": 1,
      "outputs": [
        {
          "output_type": "stream",
          "text": [
            "fatal: destination path 'TrainYourOwnYOLO' already exists and is not an empty directory.\n",
            "/content/TrainYourOwnYOLO\n"
          ],
          "name": "stdout"
        }
      ]
    },
    {
      "cell_type": "code",
      "metadata": {
        "id": "n6CgkN5fmunl",
        "colab": {
          "base_uri": "https://localhost:8080/"
        },
        "outputId": "c388ce31-60bf-4548-ec41-6b6aa2ac8cb3"
      },
      "source": [
        "pip install -r requirements.txt"
      ],
      "execution_count": 2,
      "outputs": [
        {
          "output_type": "stream",
          "text": [
            "Requirement already satisfied: absl-py==0.10.0 in /usr/local/lib/python3.7/dist-packages (from -r requirements.txt (line 1)) (0.10.0)\n",
            "Requirement already satisfied: appdirs==1.4.4 in /usr/local/lib/python3.7/dist-packages (from -r requirements.txt (line 2)) (1.4.4)\n",
            "Requirement already satisfied: astroid==2.4.2 in /usr/local/lib/python3.7/dist-packages (from -r requirements.txt (line 3)) (2.4.2)\n",
            "Requirement already satisfied: astunparse==1.6.3 in /usr/local/lib/python3.7/dist-packages (from -r requirements.txt (line 4)) (1.6.3)\n",
            "Requirement already satisfied: black==20.8b1 in /usr/local/lib/python3.7/dist-packages (from -r requirements.txt (line 5)) (20.8b1)\n",
            "Requirement already satisfied: cachetools==4.1.1 in /usr/local/lib/python3.7/dist-packages (from -r requirements.txt (line 6)) (4.1.1)\n",
            "Requirement already satisfied: certifi==2020.6.20 in /usr/local/lib/python3.7/dist-packages (from -r requirements.txt (line 7)) (2020.6.20)\n",
            "Requirement already satisfied: chardet==3.0.4 in /usr/local/lib/python3.7/dist-packages (from -r requirements.txt (line 8)) (3.0.4)\n",
            "Requirement already satisfied: click==7.1.2 in /usr/local/lib/python3.7/dist-packages (from -r requirements.txt (line 9)) (7.1.2)\n",
            "Requirement already satisfied: colorama==0.4.3 in /usr/local/lib/python3.7/dist-packages (from -r requirements.txt (line 10)) (0.4.3)\n",
            "Requirement already satisfied: cycler==0.10.0 in /usr/local/lib/python3.7/dist-packages (from -r requirements.txt (line 11)) (0.10.0)\n",
            "Requirement already satisfied: gast==0.3.3 in /usr/local/lib/python3.7/dist-packages (from -r requirements.txt (line 12)) (0.3.3)\n",
            "Requirement already satisfied: google-auth==1.21.0 in /usr/local/lib/python3.7/dist-packages (from -r requirements.txt (line 13)) (1.21.0)\n",
            "Requirement already satisfied: google-auth-oauthlib==0.4.1 in /usr/local/lib/python3.7/dist-packages (from -r requirements.txt (line 14)) (0.4.1)\n",
            "Requirement already satisfied: google-pasta==0.2.0 in /usr/local/lib/python3.7/dist-packages (from -r requirements.txt (line 15)) (0.2.0)\n",
            "Requirement already satisfied: grpcio==1.31.0 in /usr/local/lib/python3.7/dist-packages (from -r requirements.txt (line 16)) (1.31.0)\n",
            "Requirement already satisfied: h5py==2.10.0 in /usr/local/lib/python3.7/dist-packages (from -r requirements.txt (line 17)) (2.10.0)\n",
            "Requirement already satisfied: idna==2.10 in /usr/local/lib/python3.7/dist-packages (from -r requirements.txt (line 18)) (2.10)\n",
            "Requirement already satisfied: importlib-metadata==1.7.0 in /usr/local/lib/python3.7/dist-packages (from -r requirements.txt (line 19)) (1.7.0)\n",
            "Requirement already satisfied: isort==5.4.2 in /usr/local/lib/python3.7/dist-packages (from -r requirements.txt (line 20)) (5.4.2)\n",
            "Requirement already satisfied: Keras==2.4.3 in /usr/local/lib/python3.7/dist-packages (from -r requirements.txt (line 21)) (2.4.3)\n",
            "Requirement already satisfied: Keras-Preprocessing==1.1.2 in /usr/local/lib/python3.7/dist-packages (from -r requirements.txt (line 22)) (1.1.2)\n",
            "Requirement already satisfied: kiwisolver==1.2.0 in /usr/local/lib/python3.7/dist-packages (from -r requirements.txt (line 23)) (1.2.0)\n",
            "Requirement already satisfied: lazy-object-proxy==1.4.3 in /usr/local/lib/python3.7/dist-packages (from -r requirements.txt (line 24)) (1.4.3)\n",
            "Requirement already satisfied: Markdown==3.2.2 in /usr/local/lib/python3.7/dist-packages (from -r requirements.txt (line 25)) (3.2.2)\n",
            "Requirement already satisfied: matplotlib==3.3.1 in /usr/local/lib/python3.7/dist-packages (from -r requirements.txt (line 26)) (3.3.1)\n",
            "Requirement already satisfied: mccabe==0.6.1 in /usr/local/lib/python3.7/dist-packages (from -r requirements.txt (line 27)) (0.6.1)\n",
            "Requirement already satisfied: mypy-extensions==0.4.3 in /usr/local/lib/python3.7/dist-packages (from -r requirements.txt (line 28)) (0.4.3)\n",
            "Requirement already satisfied: numpy==1.18.5 in /usr/local/lib/python3.7/dist-packages (from -r requirements.txt (line 29)) (1.18.5)\n",
            "Requirement already satisfied: oauthlib==3.1.0 in /usr/local/lib/python3.7/dist-packages (from -r requirements.txt (line 30)) (3.1.0)\n",
            "Requirement already satisfied: opencv-python==4.4.0.42 in /usr/local/lib/python3.7/dist-packages (from -r requirements.txt (line 31)) (4.4.0.42)\n",
            "Requirement already satisfied: opt-einsum==3.3.0 in /usr/local/lib/python3.7/dist-packages (from -r requirements.txt (line 32)) (3.3.0)\n",
            "Requirement already satisfied: pandas==1.1.1 in /usr/local/lib/python3.7/dist-packages (from -r requirements.txt (line 33)) (1.1.1)\n",
            "Requirement already satisfied: pathspec==0.8.0 in /usr/local/lib/python3.7/dist-packages (from -r requirements.txt (line 34)) (0.8.0)\n",
            "Requirement already satisfied: Pillow==8.1.1 in /usr/local/lib/python3.7/dist-packages (from -r requirements.txt (line 35)) (8.1.1)\n",
            "Requirement already satisfied: progressbar2==3.52.1 in /usr/local/lib/python3.7/dist-packages (from -r requirements.txt (line 36)) (3.52.1)\n",
            "Requirement already satisfied: protobuf==3.13.0 in /usr/local/lib/python3.7/dist-packages (from -r requirements.txt (line 37)) (3.13.0)\n",
            "Requirement already satisfied: pyasn1==0.4.8 in /usr/local/lib/python3.7/dist-packages (from -r requirements.txt (line 38)) (0.4.8)\n",
            "Requirement already satisfied: pyasn1-modules==0.2.8 in /usr/local/lib/python3.7/dist-packages (from -r requirements.txt (line 39)) (0.2.8)\n",
            "Requirement already satisfied: pylint==2.6.0 in /usr/local/lib/python3.7/dist-packages (from -r requirements.txt (line 40)) (2.6.0)\n",
            "Requirement already satisfied: pyparsing==2.4.7 in /usr/local/lib/python3.7/dist-packages (from -r requirements.txt (line 41)) (2.4.7)\n",
            "Requirement already satisfied: python-dateutil==2.8.1 in /usr/local/lib/python3.7/dist-packages (from -r requirements.txt (line 42)) (2.8.1)\n",
            "Requirement already satisfied: python-utils==2.4.0 in /usr/local/lib/python3.7/dist-packages (from -r requirements.txt (line 43)) (2.4.0)\n",
            "Requirement already satisfied: pytz==2020.1 in /usr/local/lib/python3.7/dist-packages (from -r requirements.txt (line 44)) (2020.1)\n",
            "Requirement already satisfied: PyYAML==5.4 in /usr/local/lib/python3.7/dist-packages (from -r requirements.txt (line 45)) (5.4)\n",
            "Requirement already satisfied: regex==2020.7.14 in /usr/local/lib/python3.7/dist-packages (from -r requirements.txt (line 46)) (2020.7.14)\n",
            "Requirement already satisfied: requests==2.24.0 in /usr/local/lib/python3.7/dist-packages (from -r requirements.txt (line 47)) (2.24.0)\n",
            "Requirement already satisfied: requests-oauthlib==1.3.0 in /usr/local/lib/python3.7/dist-packages (from -r requirements.txt (line 48)) (1.3.0)\n",
            "Requirement already satisfied: rsa==4.6 in /usr/local/lib/python3.7/dist-packages (from -r requirements.txt (line 49)) (4.6)\n",
            "Requirement already satisfied: scipy==1.4.1 in /usr/local/lib/python3.7/dist-packages (from -r requirements.txt (line 50)) (1.4.1)\n",
            "Requirement already satisfied: six==1.15.0 in /usr/local/lib/python3.7/dist-packages (from -r requirements.txt (line 51)) (1.15.0)\n",
            "Requirement already satisfied: tensorboard==2.3.0 in /usr/local/lib/python3.7/dist-packages (from -r requirements.txt (line 52)) (2.3.0)\n",
            "Requirement already satisfied: tensorboard-plugin-wit==1.7.0 in /usr/local/lib/python3.7/dist-packages (from -r requirements.txt (line 53)) (1.7.0)\n",
            "Requirement already satisfied: tensorflow==2.3.1 in /usr/local/lib/python3.7/dist-packages (from -r requirements.txt (line 54)) (2.3.1)\n",
            "Requirement already satisfied: tensorflow-estimator==2.3.0 in /usr/local/lib/python3.7/dist-packages (from -r requirements.txt (line 55)) (2.3.0)\n",
            "Requirement already satisfied: termcolor==1.1.0 in /usr/local/lib/python3.7/dist-packages (from -r requirements.txt (line 56)) (1.1.0)\n",
            "Requirement already satisfied: toml==0.10.1 in /usr/local/lib/python3.7/dist-packages (from -r requirements.txt (line 57)) (0.10.1)\n",
            "Requirement already satisfied: typed-ast==1.4.1 in /usr/local/lib/python3.7/dist-packages (from -r requirements.txt (line 58)) (1.4.1)\n",
            "Requirement already satisfied: typing-extensions==3.7.4.3 in /usr/local/lib/python3.7/dist-packages (from -r requirements.txt (line 59)) (3.7.4.3)\n",
            "Requirement already satisfied: urllib3==1.25.10 in /usr/local/lib/python3.7/dist-packages (from -r requirements.txt (line 60)) (1.25.10)\n",
            "Requirement already satisfied: wandb==0.10.8 in /usr/local/lib/python3.7/dist-packages (from -r requirements.txt (line 61)) (0.10.8)\n",
            "Requirement already satisfied: Werkzeug==1.0.1 in /usr/local/lib/python3.7/dist-packages (from -r requirements.txt (line 62)) (1.0.1)\n",
            "Requirement already satisfied: wrapt==1.12.1 in /usr/local/lib/python3.7/dist-packages (from -r requirements.txt (line 63)) (1.12.1)\n",
            "Requirement already satisfied: zipp==3.1.0 in /usr/local/lib/python3.7/dist-packages (from -r requirements.txt (line 64)) (3.1.0)\n",
            "Requirement already satisfied: wheel<1.0,>=0.23.0 in /usr/local/lib/python3.7/dist-packages (from astunparse==1.6.3->-r requirements.txt (line 4)) (0.36.2)\n",
            "Requirement already satisfied: setuptools>=40.3.0 in /usr/local/lib/python3.7/dist-packages (from google-auth==1.21.0->-r requirements.txt (line 13)) (56.0.0)\n",
            "Requirement already satisfied: docker-pycreds>=0.4.0 in /usr/local/lib/python3.7/dist-packages (from wandb==0.10.8->-r requirements.txt (line 61)) (0.4.0)\n",
            "Requirement already satisfied: sentry-sdk>=0.4.0 in /usr/local/lib/python3.7/dist-packages (from wandb==0.10.8->-r requirements.txt (line 61)) (1.0.0)\n",
            "Requirement already satisfied: GitPython>=1.0.0 in /usr/local/lib/python3.7/dist-packages (from wandb==0.10.8->-r requirements.txt (line 61)) (3.1.14)\n",
            "Requirement already satisfied: subprocess32>=3.5.3 in /usr/local/lib/python3.7/dist-packages (from wandb==0.10.8->-r requirements.txt (line 61)) (3.5.4)\n",
            "Requirement already satisfied: shortuuid>=0.5.0 in /usr/local/lib/python3.7/dist-packages (from wandb==0.10.8->-r requirements.txt (line 61)) (1.0.1)\n",
            "Requirement already satisfied: configparser>=3.8.1 in /usr/local/lib/python3.7/dist-packages (from wandb==0.10.8->-r requirements.txt (line 61)) (5.0.2)\n",
            "Requirement already satisfied: watchdog>=0.8.3 in /usr/local/lib/python3.7/dist-packages (from wandb==0.10.8->-r requirements.txt (line 61)) (2.0.3)\n",
            "Requirement already satisfied: psutil>=5.0.0 in /usr/local/lib/python3.7/dist-packages (from wandb==0.10.8->-r requirements.txt (line 61)) (5.4.8)\n",
            "Requirement already satisfied: promise<3,>=2.0 in /usr/local/lib/python3.7/dist-packages (from wandb==0.10.8->-r requirements.txt (line 61)) (2.3)\n",
            "Requirement already satisfied: gitdb<5,>=4.0.1 in /usr/local/lib/python3.7/dist-packages (from GitPython>=1.0.0->wandb==0.10.8->-r requirements.txt (line 61)) (4.0.7)\n",
            "Requirement already satisfied: smmap<5,>=3.0.1 in /usr/local/lib/python3.7/dist-packages (from gitdb<5,>=4.0.1->GitPython>=1.0.0->wandb==0.10.8->-r requirements.txt (line 61)) (4.0.0)\n"
          ],
          "name": "stdout"
        }
      ]
    },
    {
      "cell_type": "code",
      "metadata": {
        "id": "eNeA3IcksBZo",
        "colab": {
          "base_uri": "https://localhost:8080/"
        },
        "outputId": "e715a772-bf33-4bab-bda0-7e988ba75400"
      },
      "source": [
        "!python Minimal_Example.py"
      ],
      "execution_count": 3,
      "outputs": [
        {
          "output_type": "stream",
          "text": [
            "Detecting Cat Faces by calling: \n",
            "\n",
            " python /content/TrainYourOwnYOLO/3_Inference/Detector.py --input_path /content/TrainYourOwnYOLO/Data/Source_Images/Test_Images --classes /content/TrainYourOwnYOLO/Data/Model_Weights/data_classes.txt --output /content/TrainYourOwnYOLO/Data/Source_Images/Test_Image_Detection_Results --yolo_model /content/TrainYourOwnYOLO/Data/Model_Weights/trained_weights_final.h5 --box_file /content/TrainYourOwnYOLO/Data/Source_Images/Test_Image_Detection_Results/Detection_Results.csv --anchors /content/TrainYourOwnYOLO/2_Training/src/keras_yolo3/model_data/yolo_anchors.txt --file_types .jpg .jpeg .png  \n",
            "\n",
            "2021-04-26 20:01:28.496350: I tensorflow/stream_executor/platform/default/dso_loader.cc:48] Successfully opened dynamic library libcudart.so.10.1\n",
            "2021-04-26 20:01:30.409566: I tensorflow/stream_executor/platform/default/dso_loader.cc:48] Successfully opened dynamic library libcuda.so.1\n",
            "2021-04-26 20:01:30.421163: E tensorflow/stream_executor/cuda/cuda_driver.cc:314] failed call to cuInit: CUDA_ERROR_NO_DEVICE: no CUDA-capable device is detected\n",
            "2021-04-26 20:01:30.421223: I tensorflow/stream_executor/cuda/cuda_diagnostics.cc:156] kernel driver does not appear to be running on this host (7550919854a7): /proc/driver/nvidia/version does not exist\n",
            "2021-04-26 20:01:30.421790: I tensorflow/core/platform/cpu_feature_guard.cc:142] This TensorFlow binary is optimized with oneAPI Deep Neural Network Library (oneDNN)to use the following CPU instructions in performance-critical operations:  AVX2 FMA\n",
            "To enable them in other operations, rebuild TensorFlow with the appropriate compiler flags.\n",
            "2021-04-26 20:01:30.427851: I tensorflow/core/platform/profile_utils/cpu_utils.cc:104] CPU Frequency: 2199995000 Hz\n",
            "2021-04-26 20:01:30.428090: I tensorflow/compiler/xla/service/service.cc:168] XLA service 0x562f39a32bc0 initialized for platform Host (this does not guarantee that XLA will be used). Devices:\n",
            "2021-04-26 20:01:30.428124: I tensorflow/compiler/xla/service/service.cc:176]   StreamExecutor device (0): Host, Default Version\n",
            "/content/TrainYourOwnYOLO/Data/Model_Weights/trained_weights_final.h5 model, anchors, and classes loaded in 9.96sec.\n",
            "Found 1 input labels: ['Cat_Face'] ...\n",
            "Found 3 input images: ['pic1.jpg', 'pic5.jpeg', 'pic2.jpg'] ...\n",
            "/content/TrainYourOwnYOLO/Data/Source_Images/Test_Images/pic1.jpg\n",
            "(416, 416, 3)\n",
            "2021-04-26 20:01:41.642853: E tensorflow/core/grappler/optimizers/meta_optimizer.cc:581] remapper failed: Invalid argument: Subshape must have computed start >= end since stride is negative, but is 0 and 2 (computed from start 0 and end 9223372036854775807 over shape with rank 2 and stride-1)\n",
            "2021-04-26 20:01:42.017768: E tensorflow/core/grappler/optimizers/meta_optimizer.cc:581] remapper failed: Invalid argument: Subshape must have computed start >= end since stride is negative, but is 0 and 2 (computed from start 0 and end 9223372036854775807 over shape with rank 2 and stride-1)\n",
            "Found 1 boxes for img\n",
            "Cat_Face 0.93 (57, 0) (682, 600)\n",
            "Time spent: 3.010sec\n",
            "/content/TrainYourOwnYOLO/Data/Source_Images/Test_Images/pic5.jpeg\n",
            "(416, 416, 3)\n",
            "Found 1 boxes for img\n",
            "Cat_Face 0.38 (0, 40) (768, 714)\n",
            "Time spent: 1.391sec\n",
            "/content/TrainYourOwnYOLO/Data/Source_Images/Test_Images/pic2.jpg\n",
            "(416, 416, 3)\n",
            "Found 0 boxes for img\n",
            "Time spent: 1.377sec\n",
            "Processed 3 images in 5.9sec - 0.5FPS\n",
            "Detected Cat Faces in 19.4 seconds\n"
          ],
          "name": "stdout"
        }
      ]
    }
  ]
}